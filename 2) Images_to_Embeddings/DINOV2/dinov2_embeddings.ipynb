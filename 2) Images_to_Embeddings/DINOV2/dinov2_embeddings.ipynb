{
 "cells": [
  {
   "cell_type": "markdown",
   "metadata": {},
   "source": [
    "### Libraries"
   ]
  },
  {
   "cell_type": "code",
   "execution_count": 23,
   "metadata": {},
   "outputs": [],
   "source": [
    "import torch\n",
    "from torchvision import transforms\n",
    "from transformers import AutoImageProcessor, AutoModel\n",
    "from PIL import Image\n",
    "import numpy as np\n",
    "import requests\n",
    "import os\n",
    "import time\n",
    "import faiss\n",
    "import json"
   ]
  },
  {
   "cell_type": "code",
   "execution_count": 24,
   "metadata": {},
   "outputs": [],
   "source": [
    "images_folder_path = \"../../1) Data_Collection/OID/Dataset/train\"\n",
    "output = \"dinov2_embeddings\"\n",
    "\n",
    "bin_file = f'{output}/dinoIndex.bin'"
   ]
  },
  {
   "cell_type": "code",
   "execution_count": 25,
   "metadata": {},
   "outputs": [],
   "source": [
    "index = faiss.IndexFlatL2(768)"
   ]
  },
  {
   "cell_type": "code",
   "execution_count": 26,
   "metadata": {},
   "outputs": [],
   "source": [
    "# Load DINOv2 model (replace with the actual loading function or model URL)\n",
    "def load_dinov2_model():\n",
    "    model = AutoModel.from_pretrained(\"facebook/dinov2-base\")\n",
    "    model.eval()  # Set model to evaluation mode\n",
    "    return model\n",
    "\n",
    "# Preprocess the image\n",
    "def preprocess_image(image):\n",
    "    transform = transforms.Compose([\n",
    "        transforms.Resize(256),\n",
    "        transforms.CenterCrop(224),\n",
    "        transforms.ToTensor(),\n",
    "        transforms.Normalize(mean=[0.485, 0.456, 0.406], std=[0.229, 0.224, 0.225]),\n",
    "    ])\n",
    "\n",
    "    return transform(image).unsqueeze(0)  # Add batch dimension\n",
    "\n",
    "# Generate embeddings\n",
    "def generate_embeddings(model, image_tensor):\n",
    "    with torch.no_grad():\n",
    "        embeddings = model(image_tensor)\n",
    "\n",
    "    return embeddings[\"last_hidden_state\"].cpu().numpy().mean(axis=1)\n",
    "\n",
    "# Save embeddings to a .bin file\n",
    "def save_embeddings_to_bin(file_path):\n",
    "    faiss.write_index(index, file_path)"
   ]
  },
  {
   "cell_type": "code",
   "execution_count": 27,
   "metadata": {},
   "outputs": [],
   "source": [
    "# Main function\n",
    "def main(image_path, output_path):\n",
    "    \n",
    "    global total_time, total_images\n",
    "\n",
    "    model = load_dinov2_model()\n",
    "\n",
    "    start_time = time.time()\n",
    "\n",
    "    image_tensor = preprocess_image(image_path)\n",
    "    embeddings = generate_embeddings(model, image_tensor)\n",
    "\n",
    "    end_time = time.time()\n",
    "    elapsed_time = end_time - start_time\n",
    "\n",
    "    total_time += elapsed_time\n",
    "    total_images += 1\n",
    "\n",
    "    index.add(embeddings)"
   ]
  },
  {
   "cell_type": "code",
   "execution_count": 28,
   "metadata": {},
   "outputs": [],
   "source": [
    "total_time = 0\n",
    "total_images = 0"
   ]
  },
  {
   "cell_type": "code",
   "execution_count": 29,
   "metadata": {},
   "outputs": [],
   "source": [
    "indexes = {}\n",
    "idx = 0\n",
    "\n",
    "for one_category in os.listdir(images_folder_path):\n",
    "    one_category_path = os.path.join(images_folder_path, one_category)\n",
    "\n",
    "    all_images_in_category_folder = [x for x in os.listdir(one_category_path) if x.endswith(\"jpg\")]\n",
    "\n",
    "    for img in all_images_in_category_folder:\n",
    "\n",
    "        img_path = os.path.join(one_category_path, img)\n",
    "\n",
    "        image = Image.open(img_path)\n",
    "        image = image.convert(\"RGB\")\n",
    "        \n",
    "        output_path = os.path.join(output, img[:-3]+\"bin\")\n",
    "\n",
    "        main(image, output_path)\n",
    "\n",
    "        indexes[idx] = img_path\n",
    "        idx += 1\n",
    "\n",
    "save_embeddings_to_bin(bin_file)"
   ]
  },
  {
   "cell_type": "code",
   "execution_count": 30,
   "metadata": {},
   "outputs": [
    {
     "name": "stdout",
     "output_type": "stream",
     "text": [
      "Total Time: 16.30 seconds\n",
      "Average Time per Image: 0.30 seconds\n"
     ]
    }
   ],
   "source": [
    "average_time = total_time / total_images if total_images > 0 else 0\n",
    "\n",
    "print(f\"Total Time: {total_time:.2f} seconds\")\n",
    "print(f\"Average Time per Image: {average_time:.2f} seconds\")"
   ]
  },
  {
   "cell_type": "markdown",
   "metadata": {},
   "source": [
    "### Saving Indices"
   ]
  },
  {
   "cell_type": "code",
   "execution_count": 31,
   "metadata": {},
   "outputs": [],
   "source": [
    "with open(f'{output}/indices.json', 'w') as file:\n",
    "    json.dump(indexes, file, indent=4)"
   ]
  }
 ],
 "metadata": {
  "kernelspec": {
   "display_name": "base",
   "language": "python",
   "name": "python3"
  },
  "language_info": {
   "codemirror_mode": {
    "name": "ipython",
    "version": 3
   },
   "file_extension": ".py",
   "mimetype": "text/x-python",
   "name": "python",
   "nbconvert_exporter": "python",
   "pygments_lexer": "ipython3",
   "version": "3.11.7"
  }
 },
 "nbformat": 4,
 "nbformat_minor": 2
}
