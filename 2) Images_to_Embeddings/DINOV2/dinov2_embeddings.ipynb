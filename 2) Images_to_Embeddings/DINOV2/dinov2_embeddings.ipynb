{
 "cells": [
  {
   "cell_type": "markdown",
   "metadata": {},
   "source": [
    "### Libraries"
   ]
  },
  {
   "cell_type": "code",
   "execution_count": 39,
   "metadata": {},
   "outputs": [],
   "source": [
    "import torch\n",
    "from torchvision import transforms\n",
    "from transformers import AutoImageProcessor, AutoModel\n",
    "from PIL import Image\n",
    "import numpy as np\n",
    "import requests\n",
    "import os"
   ]
  },
  {
   "cell_type": "code",
   "execution_count": 45,
   "metadata": {},
   "outputs": [],
   "source": [
    "images_folder_path = \"../../1) Data_Collection/OID/Dataset/train\"\n",
    "output = \"dinov2_embeddings\""
   ]
  },
  {
   "cell_type": "code",
   "execution_count": 53,
   "metadata": {},
   "outputs": [],
   "source": [
    "# Load DINOv2 model (replace with the actual loading function or model URL)\n",
    "def load_dinov2_model():\n",
    "    model = AutoModel.from_pretrained(\"facebook/dinov2-base\")\n",
    "    model.eval()  # Set model to evaluation mode\n",
    "    return model\n",
    "\n",
    "# Preprocess the image\n",
    "def preprocess_image(image):\n",
    "    transform = transforms.Compose([\n",
    "        transforms.Resize(256),\n",
    "        transforms.CenterCrop(224),\n",
    "        transforms.ToTensor(),\n",
    "        transforms.Normalize(mean=[0.485, 0.456, 0.406], std=[0.229, 0.224, 0.225]),\n",
    "    ])\n",
    "\n",
    "    return transform(image).unsqueeze(0)  # Add batch dimension\n",
    "\n",
    "# Generate embeddings\n",
    "def generate_embeddings(model, image_tensor):\n",
    "    with torch.no_grad():\n",
    "        embeddings = model(image_tensor)\n",
    "    return embeddings[\"last_hidden_state\"].cpu().numpy()\n",
    "\n",
    "# Save embeddings to a .bin file\n",
    "def save_embeddings_to_bin(embeddings, file_path):\n",
    "    embeddings.astype(np.float32).tofile(file_path)"
   ]
  },
  {
   "cell_type": "code",
   "execution_count": 58,
   "metadata": {},
   "outputs": [],
   "source": [
    "# Main function\n",
    "def main(image_path, output_path):\n",
    "    model = load_dinov2_model()\n",
    "    image_tensor = preprocess_image(image_path)\n",
    "    embeddings = generate_embeddings(model, image_tensor)\n",
    "    save_embeddings_to_bin(embeddings, output_path)"
   ]
  },
  {
   "cell_type": "code",
   "execution_count": 60,
   "metadata": {},
   "outputs": [
    {
     "name": "stderr",
     "output_type": "stream",
     "text": [
      "c:\\Users\\LENOVO\\AppData\\Local\\Programs\\Python\\Python311\\Lib\\site-packages\\huggingface_hub\\file_download.py:1142: FutureWarning: `resume_download` is deprecated and will be removed in version 1.0.0. Downloads always resume when possible. If you want to force a new download, use `force_download=True`.\n",
      "  warnings.warn(\n"
     ]
    }
   ],
   "source": [
    "for one_category in os.listdir(images_folder_path):\n",
    "    one_category_path = os.path.join(images_folder_path, one_category)\n",
    "\n",
    "    all_images_in_category_folder = [x for x in os.listdir(one_category_path) if x.endswith(\"jpg\")]\n",
    "\n",
    "    for img in all_images_in_category_folder:\n",
    "\n",
    "        img_path = os.path.join(one_category_path, img)\n",
    "\n",
    "        image = Image.open(img_path)\n",
    "        image = image.convert(\"RGB\")\n",
    "        \n",
    "        output_path = os.path.join(output, img[:-3]+\"bin\")\n",
    "\n",
    "        main(image, output_path)"
   ]
  }
 ],
 "metadata": {
  "kernelspec": {
   "display_name": "Python 3",
   "language": "python",
   "name": "python3"
  },
  "language_info": {
   "codemirror_mode": {
    "name": "ipython",
    "version": 3
   },
   "file_extension": ".py",
   "mimetype": "text/x-python",
   "name": "python",
   "nbconvert_exporter": "python",
   "pygments_lexer": "ipython3",
   "version": "3.11.4"
  }
 },
 "nbformat": 4,
 "nbformat_minor": 2
}
